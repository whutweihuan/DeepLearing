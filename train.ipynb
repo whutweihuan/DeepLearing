{
 "cells": [
  {
   "cell_type": "code",
   "execution_count": 7,
   "metadata": {},
   "outputs": [],
   "source": [
    "import main18 \n",
    "import torch\n",
    "import torchvision"
   ]
  },
  {
   "cell_type": "code",
   "execution_count": 5,
   "metadata": {},
   "outputs": [
    {
     "name": "stdout",
     "output_type": "stream",
     "text": [
      "0.5.0\n",
      "1.4.0+cu92\n"
     ]
    }
   ],
   "source": [
    "print(torchvision.__version__)\n",
    "print(torch.__version__)"
   ]
  },
  {
   "cell_type": "code",
   "execution_count": 3,
   "metadata": {},
   "outputs": [
    {
     "name": "stdout",
     "output_type": "stream",
     "text": [
      "['E:\\\\algorthm\\\\PythonApplications\\\\ImageRecognize\\\\myvenv\\\\Scripts\\\\python36.zip', 'C:\\\\Users\\\\weihuan\\\\AppData\\\\Local\\\\Programs\\\\Python\\\\Python36\\\\DLLs', 'C:\\\\Users\\\\weihuan\\\\AppData\\\\Local\\\\Programs\\\\Python\\\\Python36\\\\lib', 'C:\\\\Users\\\\weihuan\\\\AppData\\\\Local\\\\Programs\\\\Python\\\\Python36', 'E:\\\\algorthm\\\\PythonApplications\\\\ImageRecognize\\\\myvenv', '', 'E:\\\\algorthm\\\\PythonApplications\\\\ImageRecognize\\\\myvenv\\\\lib\\\\site-packages', 'E:\\\\algorthm\\\\PythonApplications\\\\ImageRecognize\\\\myvenv\\\\lib\\\\site-packages\\\\win32', 'E:\\\\algorthm\\\\PythonApplications\\\\ImageRecognize\\\\myvenv\\\\lib\\\\site-packages\\\\win32\\\\lib', 'E:\\\\algorthm\\\\PythonApplications\\\\ImageRecognize\\\\myvenv\\\\lib\\\\site-packages\\\\Pythonwin', 'E:\\\\algorthm\\\\PythonApplications\\\\ImageRecognize\\\\myvenv\\\\lib\\\\site-packages\\\\IPython\\\\extensions', 'C:\\\\Users\\\\weihuan\\\\.ipython']\n"
     ]
    }
   ],
   "source": [
    "import sys\n",
    "print(sys.path)"
   ]
  },
  {
   "cell_type": "code",
   "execution_count": 11,
   "metadata": {},
   "outputs": [],
   "source": [
    "# import main18\n",
    "# main18.train_notebook(0.0001)"
   ]
  },
  {
   "cell_type": "code",
   "execution_count": 9,
   "metadata": {},
   "outputs": [
    {
     "name": "stdout",
     "output_type": "stream",
     "text": [
      "1\n"
     ]
    }
   ],
   "source": [
    "a = 1\n",
    "print(a)"
   ]
  },
  {
   "cell_type": "markdown",
   "metadata": {},
   "source": []
  },
  {
   "cell_type": "code",
   "execution_count": 21,
   "metadata": {},
   "outputs": [
    {
     "name": "stdout",
     "output_type": "stream",
     "text": [
      "a move to stop mr. gaitskell from\n",
      "a move to stop mr. gaitskell from\n"
     ]
    }
   ],
   "source": [
    "import re\n",
    "a = 'A|MOVE|to|stop|Mr.|Gaitskell|from'.lower()\n",
    "print(re.sub('\\|',' ',a))\n",
    "print(a.replace('|',' '))\n"
   ]
  },
  {
   "cell_type": "code",
   "execution_count": 19,
   "metadata": {},
   "outputs": [
    {
     "name": "stdout",
     "output_type": "stream",
     "text": [
      "[' ', '!', '\"', '#', '&', \"'\", '(', ')', '*', '+', ',', '-', '.', '/', '0', '1', '2', '3', '4', '5', '6', '7', '8', '9', ':', ';', '?', 'a', 'b', 'c', 'd', 'e', 'f', 'g', 'h', 'i', 'j', 'k', 'l', 'm', 'n', 'o', 'p', 'q', 'r', 's', 't', 'u', 'v', 'w', 'x', 'y', 'z']\n"
     ]
    }
   ],
   "source": [
    "alpha = ['a', ' ', 'm', 'o', 'v', 'e', 't', 's', 'p', 'r', '.', 'g', 'i', 'k', 'l', 'f', 'n', 'y', 'b', 'u',\n",
    "                 'd', 'w', 'h', 'j', 'c', ',', '0', '-', \"'\", 'x', '\"', '1', '9', '5', '8', '3', '#', 'q', '(', '2',\n",
    "                 ')', '4', ':', '7', ';', '6', 'z', '?', '*', '!', '/', '&', '+']\n",
    "alpha.sort()\n",
    "print(alpha)"
   ]
  },
  {
   "cell_type": "code",
   "execution_count": null,
   "metadata": {},
   "outputs": [],
   "source": []
  }
 ],
 "metadata": {
  "kernelspec": {
   "display_name": "Python 3",
   "language": "python",
   "name": "python3"
  },
  "language_info": {
   "codemirror_mode": {
    "name": "ipython",
    "version": 3
   },
   "file_extension": ".py",
   "mimetype": "text/x-python",
   "name": "python",
   "nbconvert_exporter": "python",
   "pygments_lexer": "ipython3",
   "version": "3.6.7rc2"
  }
 },
 "nbformat": 4,
 "nbformat_minor": 2
}
